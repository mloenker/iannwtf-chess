{
  "nbformat": 4,
  "nbformat_minor": 0,
  "metadata": {
    "colab": {
      "provenance": []
    },
    "kernelspec": {
      "name": "python3",
      "display_name": "Python 3"
    },
    "language_info": {
      "name": "python"
    }
  },
  "cells": [
    {
      "cell_type": "code",
      "execution_count": 48,
      "metadata": {
        "id": "a2M0a3I26nQP"
      },
      "outputs": [],
      "source": [
        "from transformers import GPT2Tokenizer, GPT2LMHeadModel,TFGPT2LMHeadModel,TextDataset,DataCollatorForLanguageModeling, Trainer, TrainingArguments\n",
        "import chess\n",
        "import chess.pgn\n",
        "import gpt_2_simple as gpt2\n",
        "import os\n",
        "\n"
      ]
    },
    {
      "cell_type": "code",
      "source": [
        "tokenizer = GPT2Tokenizer.from_pretrained('gpt2')\n",
        "model = GPT2LMHeadModel.from_pretrained('gpt2', pad_token_id=tokenizer.eos_token_id)\n"
      ],
      "metadata": {
        "id": "xO7k4JzlMO5B"
      },
      "execution_count": 58,
      "outputs": []
    },
    {
      "cell_type": "code",
      "source": [
        "# Replace 'file.txt' with the path to your text file\n",
        "dataset = TextDataset(tokenizer=tokenizer, file_path='chess.txt', block_size=32)\n"
      ],
      "metadata": {
        "id": "lfef7eEaf6Z1"
      },
      "execution_count": 59,
      "outputs": []
    },
    {
      "cell_type": "code",
      "source": [
        "data_collator = DataCollatorForLanguageModeling(tokenizer=tokenizer, mlm=False)"
      ],
      "metadata": {
        "id": "1VF9hsjubvPR"
      },
      "execution_count": 60,
      "outputs": []
    },
    {
      "cell_type": "code",
      "source": [
        "training_args = TrainingArguments(\n",
        "    output_dir='./results',  # The output directory where the model predictions and checkpoints will be written\n",
        "    overwrite_output_dir=True,\n",
        "    num_train_epochs=1,\n",
        "    per_device_train_batch_size=16,\n",
        "    save_steps=1000,\n",
        "    save_total_limit=2,\n",
        "    prediction_loss_only=True,\n",
        "    logging_steps=1000,\n",
        "    logging_dir='./logs',\n",
        "    gradient_accumulation_steps=4\n",
        ")"
      ],
      "metadata": {
        "id": "3XZEd1mmgMiD"
      },
      "execution_count": 61,
      "outputs": []
    },
    {
      "cell_type": "code",
      "source": [
        "trainer = Trainer(\n",
        "    model=model,\n",
        "    args=training_args,\n",
        "    data_collator=data_collator,\n",
        "    train_dataset=dataset\n",
        ")\n",
        "\n",
        "trainer.train()"
      ],
      "metadata": {
        "colab": {
          "base_uri": "https://localhost:8080/",
          "height": 165
        },
        "id": "cKyioSpLgeJe",
        "outputId": "6279dbed-544c-4f41-e18c-88633f2f0daa"
      },
      "execution_count": 62,
      "outputs": [
        {
          "output_type": "stream",
          "name": "stderr",
          "text": [
            "/usr/local/lib/python3.9/dist-packages/transformers/optimization.py:391: FutureWarning: This implementation of AdamW is deprecated and will be removed in a future version. Use the PyTorch implementation torch.optim.AdamW instead, or set `no_deprecation_warning=True` to disable this warning\n",
            "  warnings.warn(\n"
          ]
        },
        {
          "output_type": "display_data",
          "data": {
            "text/plain": [
              "<IPython.core.display.HTML object>"
            ],
            "text/html": [
              "\n",
              "    <div>\n",
              "      \n",
              "      <progress value='1' max='1' style='width:300px; height:20px; vertical-align: middle;'></progress>\n",
              "      [1/1 00:00, Epoch 1/1]\n",
              "    </div>\n",
              "    <table border=\"1\" class=\"dataframe\">\n",
              "  <thead>\n",
              " <tr style=\"text-align: left;\">\n",
              "      <th>Step</th>\n",
              "      <th>Training Loss</th>\n",
              "    </tr>\n",
              "  </thead>\n",
              "  <tbody>\n",
              "  </tbody>\n",
              "</table><p>"
            ]
          },
          "metadata": {}
        },
        {
          "output_type": "execute_result",
          "data": {
            "text/plain": [
              "TrainOutput(global_step=1, training_loss=0.8834662437438965, metrics={'train_runtime': 6.7444, 'train_samples_per_second': 0.741, 'train_steps_per_second': 0.148, 'total_flos': 81653760000.0, 'train_loss': 0.8834662437438965, 'epoch': 1.0})"
            ]
          },
          "metadata": {},
          "execution_count": 62
        }
      ]
    },
    {
      "cell_type": "code",
      "source": [
        " trainer.save_model()"
      ],
      "metadata": {
        "id": "t36NqxS6kNIB"
      },
      "execution_count": 63,
      "outputs": []
    },
    {
      "cell_type": "code",
      "source": [
        " model = GPT2LMHeadModel.from_pretrained(\"/content/results\")"
      ],
      "metadata": {
        "id": "4ouwVPi2kphl"
      },
      "execution_count": 66,
      "outputs": []
    },
    {
      "cell_type": "code",
      "source": [
        "def generate_text(sequence):\n",
        "    ids = tokenizer.encode(f'{sequence}', return_tensors='pt')\n",
        "    final_outputs = model.generate(\n",
        "        ids,\n",
        "        do_sample=True,\n",
        "        #max_length=max_length,\n",
        "        max_new_tokens=3,\n",
        "        pad_token_id=model.config.eos_token_id,\n",
        "        top_k=50,\n",
        "        top_p=0.95,\n",
        "    )\n",
        "    return tokenizer.decode(final_outputs[0], skip_special_tokens=True)"
      ],
      "metadata": {
        "id": "HfXxbUmyMeYt"
      },
      "execution_count": 70,
      "outputs": []
    },
    {
      "cell_type": "code",
      "source": [
        "generate_text(\"1. e4 e5 2. Nf3\")"
      ],
      "metadata": {
        "colab": {
          "base_uri": "https://localhost:8080/",
          "height": 35
        },
        "id": "6xyDU9FJVJsH",
        "outputId": "e8b1896a-68c8-4b3e-8822-15014d126114"
      },
      "execution_count": 71,
      "outputs": [
        {
          "output_type": "execute_result",
          "data": {
            "text/plain": [
              "'1. e4 e5 2. Nf3 Nc6'"
            ],
            "application/vnd.google.colaboratory.intrinsic+json": {
              "type": "string"
            }
          },
          "metadata": {},
          "execution_count": 71
        }
      ]
    },
    {
      "cell_type": "code",
      "source": [
        "class Game:\n",
        "    def __init__(self):\n",
        "        self.board = chess.Board()\n",
        "        self.board.push_san(\"e4\")\n",
        "        self.board.push_san(\"e5\")\n",
        "        self.player = \"human\"\n",
        "        self.pgn = \"1. e4 e5\"\n",
        "        self.move_count = 2\n",
        "    \n",
        "    def get_move(self):\n",
        "        if self.player == \"human\":\n",
        "            move = str(input(\"Your move: \"))\n",
        "            self.player = \"ai\"\n",
        "            self.pgn += \" \"+str(self.move_count) + \".\"\n",
        "            self.move_count += 1\n",
        "\n",
        "        else:\n",
        "            print(self.pgn)\n",
        "            move = generate_text(self.pgn)\n",
        "            print(move)\n",
        "            move = move.replace(self.pgn, \"\")\n",
        "            move = move.split(\" \")[1]\n",
        "            self.player = \"human\"\n",
        "        self.pgn = self.pgn + \" \"+ move \n",
        "        self.board.push_san(move)\n",
        "\n",
        "game = Game()"
      ],
      "metadata": {
        "id": "FF4eEYo_gAwF"
      },
      "execution_count": 22,
      "outputs": []
    },
    {
      "cell_type": "code",
      "source": [
        "while True:\n",
        "    display(game.board)\n",
        "    game.get_move()"
      ],
      "metadata": {
        "id": "-vXECXb-kDlL"
      },
      "execution_count": null,
      "outputs": []
    }
  ]
}